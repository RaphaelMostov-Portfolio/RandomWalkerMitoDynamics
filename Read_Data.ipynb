{
 "cells": [
  {
   "cell_type": "code",
   "execution_count": null,
   "metadata": {},
   "outputs": [],
   "source": [
    "import os\n",
    "import igraph # I dont think this package is on google colab, might be better to use NetworkX\n",
    "import pandas as pd\n",
    "from tqdm import tqdm_notebook as tqdm\n"
   ]
  },
  {
   "cell_type": "markdown",
   "metadata": {},
   "source": [
    "Read dataframe with metadata."
   ]
  },
  {
   "cell_type": "code",
   "execution_count": null,
   "metadata": {},
   "outputs": [],
   "source": [
    "df = pd.read_csv('../Data/MitoTable.csv') \n",
    "df.Type = df.Type.astype(\"category\")\n",
    "df.Type.cat.reorder_categories([\"WT\", \"WTFIX\",'DD', 'DDFIX'], inplace=True)\n",
    "print(df.shape)\n",
    "\n",
    "df = df.loc[(df.Date.isin([24]))&(df.Type.isin(['WT','DDFIX']))]\n",
    "df.Type = df.Type.cat.remove_unused_categories()\n",
    "print(df.shape)"
   ]
  },
  {
   "cell_type": "markdown",
   "metadata": {},
   "source": [
    "Read individual steady-state MitoGraphs:"
   ]
  },
  {
   "cell_type": "code",
   "execution_count": null,
   "metadata": {},
   "outputs": [],
   "source": [
    "for index in tqdm(df.index):\n",
    "        \n",
    "    # Load the graph\n",
    "    fname = os.path.join('../Data/',df.Name[index]+'.gnet') \n",
    "    graph_list = pd.read_csv(fname, skiprows=1, sep='\\t', header=None)\n",
    "    graph_list.columns = ['Source','Target','Length']\n",
    "    edges = [(i,j) for i,j in zip(graph_list.Source.values,graph_list.Target.values)]\n",
    "   \n",
    "    g = igraph.Graph(edges=edges, directed=False) # this is the variable that stores the mitochondria graph\n",
    "    \n",
    "    \n",
    "    # Other optional data we can load: edge length, cell size\n",
    "    g.es['length'] = graph_list.Length.values \n",
    "\n",
    "    fname = os.path.join('../Data/',df.Name[index].replace('_fix','')+'.mbcellvol') \n",
    "    cell_size = pd.read_csv(fname, skiprows=1, sep='\\t', header=None)\n",
    "    cell_size.columns = ['MinorRadius','MidRadius','MajorAxis','SurfaceArea','Volume']\n"
   ]
  }
 ],
 "metadata": {
  "kernelspec": {
   "display_name": "base",
   "language": "python",
   "name": "python3"
  },
  "language_info": {
   "name": "python",
   "version": "3.9.17"
  }
 },
 "nbformat": 4,
 "nbformat_minor": 2
}
